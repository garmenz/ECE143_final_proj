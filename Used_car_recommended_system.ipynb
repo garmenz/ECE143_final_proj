{
 "cells": [
  {
   "cell_type": "code",
   "execution_count": 1,
   "metadata": {
    "jupyter": {
     "source_hidden": true
    }
   },
   "outputs": [],
   "source": [
    "import ipywidgets as widgets\n",
    "from IPython.display import display\n",
    "from ipywidgets import TwoByTwoLayout\n",
    "from ipywidgets import Button, Layout, jslink, IntText, IntSlider\n",
    "import matplotlib.pyplot as plt\n",
    "from IPython.core.display import HTML\n",
    "\n",
    "import numpy as np\n",
    "import pandas as pd"
   ]
  },
  {
   "cell_type": "code",
   "execution_count": 56,
   "metadata": {
    "collapsed": true,
    "jupyter": {
     "outputs_hidden": true,
     "source_hidden": true
    }
   },
   "outputs": [
    {
     "name": "stderr",
     "output_type": "stream",
     "text": [
      "<ipython-input-56-79702ec7ae5c>:5: SettingWithCopyWarning: \n",
      "A value is trying to be set on a copy of a slice from a DataFrame\n",
      "\n",
      "See the caveats in the documentation: https://pandas.pydata.org/pandas-docs/stable/user_guide/indexing.html#returning-a-view-versus-a-copy\n",
      "  rec_dataset.dropna(inplace=True)\n"
     ]
    }
   ],
   "source": [
    "df = pd.read_csv('vehicles.csv')\n",
    "df.dropna(inplace=True)\n",
    "rec_dataset = df[['condition', 'odometer', 'title_status', 'manufacturer', 'model', 'price', 'year', 'image_url']]\n",
    "# drop empty entry\n",
    "rec_dataset.dropna(inplace=True)"
   ]
  },
  {
   "cell_type": "code",
   "execution_count": 4,
   "metadata": {
    "jupyter": {
     "source_hidden": true
    }
   },
   "outputs": [],
   "source": [
    "def cars_in_price_range(cars_dt, lower_bound, upper_bound,  num_of_sel=5, importance=None):\n",
    "    '''\n",
    "    given an input price range, return the list of cars with info of condition, odometer, title_status, manufacture and model, [optional] image_url, description\n",
    "    param:\n",
    "    @ lower_bound: lower bound of the price\n",
    "    @ upper_bound: upper bound of the price\n",
    "    @ num_of_sel: how many number of cars to display at the end (default=5)\n",
    "    @ cars_dt: full car dataset\n",
    "    @ importance: the importance score for quantifiable factors (in a dictionary) [sum is 1]\n",
    "    return:\n",
    "    @ list of cars in pandas dataframe with information of the cars\n",
    "    '''\n",
    "    scores = list()\n",
    "    sub_set = cars_dt.query('@lower_bound <= price <= @upper_bound') # get all the cars within the proice range\n",
    "    for index, row in sub_set.iterrows():\n",
    "        scores.append( decide_value_of_cars(row,importance) )\n",
    "    sub_set['score'] = scores # add the scores to the dataframe under 'score' column\n",
    "    sub_set.sort_values(by='score',ascending = False, inplace=True) # Sort by scores, tops scores at the beggining\n",
    "    sub_set = sub_set.head(num_of_sel) # get the first num_of_sel rows\n",
    "    return sub_set"
   ]
  },
  {
   "cell_type": "code",
   "execution_count": 5,
   "metadata": {
    "jupyter": {
     "source_hidden": true
    }
   },
   "outputs": [],
   "source": [
    "def decide_value_of_cars(carInfo, importance):\n",
    "    '''\n",
    "    given a car info, return the importance score\n",
    "    param:\n",
    "    @ carInfo: all the information of the cars including condition, odometer, title_status, manufacture and model\n",
    "    @ score: the score by weighting different factors\n",
    "    \n",
    "    :type carInfo: car object \n",
    "    :type importance: float percentage, score based from 0-100 \n",
    "    '''\n",
    "    # so to calculate the importance score, I want to measure that off of 'condition' 'odometer' and 'title_status'\n",
    "    # 'manufacturer', 'model', and 'year' are just details of the car \n",
    "    \n",
    "    condition = carInfo.condition # (new, excellent, like new, good, fair, salvage) :type: string\n",
    "    if condition is None:\n",
    "        condition = 'unspecified'\n",
    "    else:\n",
    "        condition = condition.strip()\n",
    "        \n",
    "    mileage = carInfo.odometer # :type: float\n",
    "    if mileage is None:\n",
    "        mileage = 'unspecified'\n",
    "        \n",
    "    title_status = carInfo.title_status # (clean, rebuilt, salvage, lien, parts only, missing) :typt: string\n",
    "    if title_status is None:\n",
    "        title_status = 'unspecified'\n",
    "    else:\n",
    "        title_status = title_status.strip()\n",
    "        \n",
    "    year = carInfo.year # :type: float \n",
    "    if year is None:\n",
    "        year = 'unspecified'\n",
    "    \n",
    "    # lets weigh these values \n",
    "    if (importance == 'condition'):\n",
    "        weights_dict = {\n",
    "        'condition':0.5,\n",
    "        'odometer':0.16666667,\n",
    "        'title_status':0.16666667,\n",
    "        'year':0.16666667 \n",
    "    }\n",
    "        \n",
    "    elif (importance == 'odometer'):\n",
    "        weights_dict = {\n",
    "        'condition':0.16666667,\n",
    "        'odometer':0.5,\n",
    "        'title_status':0.16666667,\n",
    "        'year':0.16666667 \n",
    "    }\n",
    "        \n",
    "    elif (importance == 'title_status'):\n",
    "        weights_dict = {\n",
    "        'condition':0.16666667,\n",
    "        'odometer':0.16666667,\n",
    "        'title_status':0.5,\n",
    "        'year':0.16666667 \n",
    "    }\n",
    "        \n",
    "    elif (importance == 'year'):\n",
    "        weights_dict = {\n",
    "        'condition':0.16666667,\n",
    "        'odometer':0.16666667,\n",
    "        'title_status':0.16666667,\n",
    "        'year':0.5 \n",
    "    }\n",
    "        \n",
    "    else: # if user doesn't specify an importance factor, lets weigh everything the same\n",
    "         weights_dict = {\n",
    "        'condition':0.057,\n",
    "        'odometer':0.42,\n",
    "        'title_status':0.006,\n",
    "        'year':0.517 \n",
    "    }\n",
    "    \n",
    "    condition_dict = {\n",
    "        'new': 100,\n",
    "        'excellent': 95,\n",
    "        'like new': 90,\n",
    "        'good': 85,\n",
    "        'fair': 60, \n",
    "        'salvage': 5,\n",
    "        'unspecified' : 0\n",
    "        \n",
    "    }\n",
    "    \n",
    "    title_status_dict = {\n",
    "        'clean': 100,\n",
    "        'lien': 90, \n",
    "        'rebuilt': 40, \n",
    "        'missing': 20, \n",
    "        'parts_only': 10,\n",
    "        'salvage': 5,\n",
    "        'unspecified' : 0\n",
    "    }\n",
    "    \n",
    "    odometer_dict = {\n",
    "        '100k_and_below': 100,\n",
    "        '100k_to_120k': 90, \n",
    "        '120k_to_150k': 80, \n",
    "        '150k_to_180k': 50,\n",
    "        '180k_to_200k': 30,\n",
    "        '200k_to_300k': 15,\n",
    "        '300k_and_above': 5,\n",
    "        'unspecified' : 0\n",
    "    }\n",
    "    \n",
    "    year_dict = {\n",
    "        '2005_and_above': 100,\n",
    "        '2000_to_2005': 90,\n",
    "        '1990_to_2000': 60, \n",
    "        '1970_to_1990': 40, \n",
    "        '1950_to_1970': 20,\n",
    "        '1950_and_below': 10,\n",
    "        'unspecified' : 0\n",
    "    }\n",
    "    \n",
    "    # lets find the ranges for the mileage \n",
    "#     if(mileage <= 100000):\n",
    "#         mileage_score = '100k_and_below'\n",
    "#     elif(100000 < mileage <= 120000):\n",
    "#         mileage_score = '100k_to_120k'\n",
    "#     elif(120000 < mileage <= 150000):\n",
    "#         mileage_score = '120k_to_150k'\n",
    "#     elif(150000 < mileage <= 180000):\n",
    "#         mileage_score = '150k_to_180k'\n",
    "#     elif(180000 < mileage <= 200000): \n",
    "#         mileage_score = '180k_to_200k'\n",
    "#     elif(200000 < mileage <= 300000): \n",
    "#         mileage_score = '200k_to_300k'\n",
    "#     elif(mileage > 300000):\n",
    "#         mileage_score = '300k_and_above'\n",
    "#     else:\n",
    "#         mileage_score = 'unspecified'\n",
    "    mileage_score = max((1-mileage/200000)*100,0)\n",
    "    \n",
    "    # now lets find the ranges for the years \n",
    "#     if(year >= 2005): \n",
    "#         year_score = '2005_and_above'\n",
    "#     elif(2000 <= year < 2005): \n",
    "#         year_score = '2000_to_2005'\n",
    "#     elif(1990 <= year < 2000):\n",
    "#         year_score = '1990_to_2000'\n",
    "#     elif(1970 <= year < 1990): \n",
    "#         year_score = '1970_to_1990'\n",
    "#     elif(1950 <= year < 1970): \n",
    "#         year_score = '1950_to_1970' \n",
    "#     elif(year < 1950): \n",
    "#         year_score = '1950_and_below'\n",
    "#     else:\n",
    "#         year_score = 'unspecified'\n",
    "    year_score = max((1-(2021-year)/(2021-1950))*100,0)\n",
    "        \n",
    "    # now lets calculate the score \n",
    "    try:\n",
    "#         score = condition_dict[condition]*weights_dict['condition'] + title_status_dict[title_status]*weights_dict['title_status'] + odometer_dict[mileage_score]*weights_dict['odometer'] + year_dict[year_score]*weights_dict['year']\n",
    "        score = condition_dict[condition]*weights_dict['condition'] + title_status_dict[title_status]*weights_dict['title_status'] + mileage_score*weights_dict['odometer'] + year_score*weights_dict['year']\n",
    "    except Exception as e:\n",
    "        #print(f\"ERROR: {e}\")\n",
    "        score = 0\n",
    "    \n",
    "    return score\n"
   ]
  },
  {
   "cell_type": "code",
   "execution_count": 84,
   "metadata": {
    "jupyter": {
     "source_hidden": true
    }
   },
   "outputs": [],
   "source": [
    "def path_to_image_html(path):\n",
    "    return '<img src=\"'+ path + '\" width=\"100\" >'"
   ]
  },
  {
   "cell_type": "code",
   "execution_count": 7,
   "metadata": {
    "collapsed": true,
    "jupyter": {
     "outputs_hidden": true,
     "source_hidden": true
    }
   },
   "outputs": [
    {
     "name": "stderr",
     "output_type": "stream",
     "text": [
      "<>:11: SyntaxWarning: \"is not\" with a literal. Did you mean \"!=\"?\n",
      "<>:13: SyntaxWarning: \"is not\" with a literal. Did you mean \"!=\"?\n",
      "<>:15: SyntaxWarning: \"is not\" with a literal. Did you mean \"!=\"?\n",
      "<>:17: SyntaxWarning: \"is not\" with a literal. Did you mean \"!=\"?\n",
      "<>:20: SyntaxWarning: \"is not\" with a literal. Did you mean \"!=\"?\n",
      "<>:22: SyntaxWarning: \"is not\" with a literal. Did you mean \"!=\"?\n",
      "<>:11: SyntaxWarning: \"is not\" with a literal. Did you mean \"!=\"?\n",
      "<>:13: SyntaxWarning: \"is not\" with a literal. Did you mean \"!=\"?\n",
      "<>:15: SyntaxWarning: \"is not\" with a literal. Did you mean \"!=\"?\n",
      "<>:17: SyntaxWarning: \"is not\" with a literal. Did you mean \"!=\"?\n",
      "<>:20: SyntaxWarning: \"is not\" with a literal. Did you mean \"!=\"?\n",
      "<>:22: SyntaxWarning: \"is not\" with a literal. Did you mean \"!=\"?\n",
      "<ipython-input-7-154072dc3fa7>:11: SyntaxWarning: \"is not\" with a literal. Did you mean \"!=\"?\n",
      "  if State is not 'None':\n",
      "<ipython-input-7-154072dc3fa7>:13: SyntaxWarning: \"is not\" with a literal. Did you mean \"!=\"?\n",
      "  if Fuel is not 'None':\n",
      "<ipython-input-7-154072dc3fa7>:15: SyntaxWarning: \"is not\" with a literal. Did you mean \"!=\"?\n",
      "  if Type is not 'None':\n",
      "<ipython-input-7-154072dc3fa7>:17: SyntaxWarning: \"is not\" with a literal. Did you mean \"!=\"?\n",
      "  if Cylinder is not 'None':\n",
      "<ipython-input-7-154072dc3fa7>:20: SyntaxWarning: \"is not\" with a literal. Did you mean \"!=\"?\n",
      "  if color is not 'None':\n",
      "<ipython-input-7-154072dc3fa7>:22: SyntaxWarning: \"is not\" with a literal. Did you mean \"!=\"?\n",
      "  if Transmission is not 'None':\n"
     ]
    }
   ],
   "source": [
    "def preference_selection(cars_dt, State=None, Fuel=None, Type=None, color=None, Cylinder=None, Transmission=None, year_min=None, year_max=None, importance=None, num_of_sel=15):\n",
    "    '''\n",
    "    given user's preference in fuel, type, color, cylinders, transmission, year, state, return manufacture, model and price\n",
    "    param:\n",
    "    @ state, fuel, type, cylinder, transmission, year: user preference choice\n",
    "    return:\n",
    "    @ list of cars in pandas dataframe with manufacture, model and price\n",
    "    '''\n",
    "    scores = list()\n",
    "    new_dt = cars_dt\n",
    "    if State is not 'None':\n",
    "        new_dt = new_dt[new_dt['state']==State.lower()]\n",
    "    if Fuel is not 'None':\n",
    "        new_dt = new_dt[new_dt['fuel']==Fuel.lower()]\n",
    "    if Type is not 'None':\n",
    "        new_dt = new_dt[new_dt['type']==Type.lower()]\n",
    "    if Cylinder is not 'None':\n",
    "        cyl_str = f'{Cylinder} cylinders'\n",
    "        new_dt = new_dt[new_dt['cylinders']==cyl_str]\n",
    "    if color is not 'None':\n",
    "        new_dt = new_dt[new_dt['paint_color']==color.lower()]\n",
    "    if Transmission is not 'None':\n",
    "        new_dt = new_dt[new_dt['transmission']==Transmission.lower()]\n",
    "    if year_min is not None:\n",
    "        new_dt = new_dt[new_dt['year']>=year_min]\n",
    "    if year_max is not None:\n",
    "        new_dt = new_dt[new_dt['year']<=year_max]\n",
    "#     new_dt.dropna(axis=0, how='any')\n",
    "    print(f'Thank you for your input. Your selection is: \\nstate: {State}, \\nFuel: {Fuel}, \\nType: {Type}, \\nColor: {color}, \\nCylinder: {Cylinder}, \\nTransmission: {Transmission}, \\nYear range: {year_min}-{year_max}')\n",
    "    for index, row in new_dt.iterrows():\n",
    "        scores.append( decide_value_of_cars(row,importance) )\n",
    "    new_dt['score'] = scores # add the scores to the dataframe under 'score' column\n",
    "    new_dt.sort_values(by='score',ascending = False, inplace=True) # Sort by scores, tops scores at the beggining\n",
    "    new_dt = new_dt.head(num_of_sel) # get the first num_of_sel rows\n",
    "#     return new_dt[['manufacturer', 'model', 'price']]\n",
    "\n",
    "    return new_dt[['condition', 'odometer', 'title_status', 'manufacturer', 'model', 'price', 'year', 'image_url', 'score']]"
   ]
  },
  {
   "cell_type": "markdown",
   "metadata": {},
   "source": [
    "# Used Car Recommendation System"
   ]
  },
  {
   "cell_type": "markdown",
   "metadata": {},
   "source": [
    "### Please Enter the range of price:"
   ]
  },
  {
   "cell_type": "code",
   "execution_count": 8,
   "metadata": {
    "jupyter": {
     "source_hidden": true
    }
   },
   "outputs": [
    {
     "data": {
      "application/vnd.jupyter.widget-view+json": {
       "model_id": "27a63820aa844894a39704cf3162b201",
       "version_major": 2,
       "version_minor": 0
      },
      "text/plain": [
       "FloatText(value=0.0, description='From:')"
      ]
     },
     "metadata": {},
     "output_type": "display_data"
    }
   ],
   "source": [
    "lower_bound = widgets.FloatText(\n",
    "    value=0,\n",
    "    description='From:',\n",
    "    disabled=False\n",
    ")\n",
    "display(lower_bound)"
   ]
  },
  {
   "cell_type": "code",
   "execution_count": 9,
   "metadata": {
    "jupyter": {
     "source_hidden": true
    }
   },
   "outputs": [
    {
     "data": {
      "application/vnd.jupyter.widget-view+json": {
       "model_id": "3d65e986942748a5a7ca258829eba3e1",
       "version_major": 2,
       "version_minor": 0
      },
      "text/plain": [
       "FloatText(value=0.0, description='To:')"
      ]
     },
     "metadata": {},
     "output_type": "display_data"
    }
   ],
   "source": [
    "upper_bound = widgets.FloatText(\n",
    "    value=0,\n",
    "    description='To:',\n",
    "    disabled=False\n",
    ")\n",
    "display(upper_bound)"
   ]
  },
  {
   "cell_type": "markdown",
   "metadata": {},
   "source": [
    "### Filters"
   ]
  },
  {
   "cell_type": "code",
   "execution_count": 10,
   "metadata": {
    "jupyter": {
     "source_hidden": true
    }
   },
   "outputs": [
    {
     "data": {
      "application/vnd.jupyter.widget-view+json": {
       "model_id": "d7733e2ec7984ed8b365a25659861c7a",
       "version_major": 2,
       "version_minor": 0
      },
      "text/plain": [
       "Dropdown(description='STATE:', options=('None', 'AL', 'AK', 'AZ', 'AR', 'CA', 'CO', 'CT', 'DC', 'DE', 'FL', 'G…"
      ]
     },
     "metadata": {},
     "output_type": "display_data"
    }
   ],
   "source": [
    "state = [ 'None', 'AL', 'AK', 'AZ', 'AR', 'CA', 'CO', 'CT', 'DC', 'DE', 'FL', 'GA',\n",
    "       'HI', 'ID', 'IL', 'IN', 'IA', 'KS', 'KY', 'LA', 'ME', 'MD', 'MA',\n",
    "       'MI', 'MN', 'MS', 'MO', 'MT', 'NC', 'NE', 'NV', 'NJ', 'NM', 'NY',\n",
    "       'NH', 'ND', 'OH', 'OK', 'OR', 'PA', 'RI', 'SC', 'SD', 'TN', 'TX',\n",
    "       'UT', 'VT', 'VA', 'WA', 'WV', 'WI', 'WY']\n",
    "state_selector = widgets.Dropdown(\n",
    "    options=state,\n",
    "    value='None',\n",
    "    description='STATE:',\n",
    "    disabled=False,\n",
    ")\n",
    "display(state_selector)"
   ]
  },
  {
   "cell_type": "code",
   "execution_count": 11,
   "metadata": {
    "jupyter": {
     "source_hidden": true
    }
   },
   "outputs": [
    {
     "data": {
      "application/vnd.jupyter.widget-view+json": {
       "model_id": "8003a033e9ee4dcaa8811f69b4861151",
       "version_major": 2,
       "version_minor": 0
      },
      "text/plain": [
       "Dropdown(description='FUEL:', options=('None', 'Gas', 'Diesel', 'Hybrid', 'Electric', 'Other'), value='None')"
      ]
     },
     "metadata": {},
     "output_type": "display_data"
    }
   ],
   "source": [
    "fuel = ['None', 'Gas', 'Diesel', 'Hybrid', 'Electric', 'Other']\n",
    "fuel_selector = widgets.Dropdown(\n",
    "    options=fuel,\n",
    "    value='None',\n",
    "    description='FUEL:',\n",
    "    disabled=False,\n",
    ")\n",
    "display(fuel_selector)"
   ]
  },
  {
   "cell_type": "code",
   "execution_count": 50,
   "metadata": {
    "jupyter": {
     "source_hidden": true
    }
   },
   "outputs": [
    {
     "data": {
      "application/vnd.jupyter.widget-view+json": {
       "model_id": "e1dab23bbf854961a8733faf44c87663",
       "version_major": 2,
       "version_minor": 0
      },
      "text/plain": [
       "Dropdown(description='Type:', options=('None', 'Sedan', 'SUV', 'Pickup', 'Coupe', 'Van', 'Truck', 'Mini-van', …"
      ]
     },
     "metadata": {},
     "output_type": "display_data"
    }
   ],
   "source": [
    "type_list = ['None','Sedan', 'SUV', 'Pickup', 'Coupe', 'Van', 'Truck',\n",
    "       'Mini-van', 'Wagon', 'Convertible', 'Hatchback', 'Bus', 'Offroad', 'Other']\n",
    "type_selector = widgets.Dropdown(\n",
    "    options=type_list,\n",
    "    value='None',\n",
    "    description='Type:',\n",
    "    disabled=False,\n",
    ")\n",
    "display(type_selector)"
   ]
  },
  {
   "cell_type": "code",
   "execution_count": 13,
   "metadata": {
    "jupyter": {
     "source_hidden": true
    }
   },
   "outputs": [
    {
     "data": {
      "application/vnd.jupyter.widget-view+json": {
       "model_id": "67a3b8969eb944a9b23ac152ecef076f",
       "version_major": 2,
       "version_minor": 0
      },
      "text/plain": [
       "Dropdown(description='COLOR:', options=('None', 'Blue', 'Red', 'Silver', 'Black', 'White', 'Grey', 'Orange', '…"
      ]
     },
     "metadata": {},
     "output_type": "display_data"
    }
   ],
   "source": [
    "color = ['None','Blue', 'Red', 'Silver', 'Black', 'White', 'Grey', 'Orange',\n",
    "       'Green', 'Yellow', 'Custom', 'Brown', 'Purple']\n",
    "color_selector = widgets.Dropdown(\n",
    "    options=color,\n",
    "    value='None',\n",
    "    description='COLOR:',\n",
    "    disabled=False,\n",
    ")\n",
    "display(color_selector)"
   ]
  },
  {
   "cell_type": "code",
   "execution_count": 14,
   "metadata": {
    "jupyter": {
     "source_hidden": true
    }
   },
   "outputs": [
    {
     "data": {
      "application/vnd.jupyter.widget-view+json": {
       "model_id": "4ab5a659f60b4bdf825b3d79440b6fe8",
       "version_major": 2,
       "version_minor": 0
      },
      "text/plain": [
       "Dropdown(description='Cylinders:', options=('None', 8, 4, 6, 10, 5, 3, 12), value='None')"
      ]
     },
     "metadata": {},
     "output_type": "display_data"
    }
   ],
   "source": [
    "cylinders = ['None', 8, 4, 6, 10, 5, 3, 12]\n",
    "cylinders_selector = widgets.Dropdown(\n",
    "    options=cylinders,\n",
    "    value='None',\n",
    "    description='Cylinders:',\n",
    "    disabled=False,\n",
    ")\n",
    "display(cylinders_selector)"
   ]
  },
  {
   "cell_type": "code",
   "execution_count": 15,
   "metadata": {
    "jupyter": {
     "source_hidden": true
    }
   },
   "outputs": [
    {
     "data": {
      "application/vnd.jupyter.widget-view+json": {
       "model_id": "f4195e31e071450a8166da9989f92904",
       "version_major": 2,
       "version_minor": 0
      },
      "text/plain": [
       "Dropdown(description='Transmission:', options=('None', 'Automatic', 'Manual', 'Other'), value='None')"
      ]
     },
     "metadata": {},
     "output_type": "display_data"
    }
   ],
   "source": [
    "transmission = ['None','Automatic', 'Manual', 'Other']\n",
    "transmission_selector = widgets.Dropdown(\n",
    "    options=transmission,\n",
    "    value='None',\n",
    "    description='Transmission:',\n",
    "    disabled=False,\n",
    ")\n",
    "display(transmission_selector)"
   ]
  },
  {
   "cell_type": "code",
   "execution_count": 16,
   "metadata": {
    "jupyter": {
     "source_hidden": true
    }
   },
   "outputs": [
    {
     "data": {
      "application/vnd.jupyter.widget-view+json": {
       "model_id": "9509a4861df94e78995128555d99d323",
       "version_major": 2,
       "version_minor": 0
      },
      "text/plain": [
       "IntRangeSlider(value=(2010, 2015), continuous_update=False, description='Year:', max=2021, min=1900)"
      ]
     },
     "metadata": {},
     "output_type": "display_data"
    }
   ],
   "source": [
    "year_selector = widgets.IntRangeSlider(\n",
    "    value=[2010, 2015],\n",
    "    min=1900,\n",
    "    max=2021,\n",
    "    step=1,\n",
    "    description='Year:',\n",
    "    disabled=False,\n",
    "    continuous_update=False,\n",
    "    orientation='horizontal',\n",
    "    readout=True,\n",
    "    readout_format='d',\n",
    ")\n",
    "display(year_selector)"
   ]
  },
  {
   "cell_type": "code",
   "execution_count": 98,
   "metadata": {},
   "outputs": [
    {
     "name": "stdout",
     "output_type": "stream",
     "text": [
      "Thank you for your input. Your selection is: \n",
      "state: CA, \n",
      "Fuel: Gas, \n",
      "Type: None, \n",
      "Color: Red, \n",
      "Cylinder: None, \n",
      "Transmission: None, \n",
      "Year range: 1900-2021\n"
     ]
    }
   ],
   "source": [
    "update_df = preference_selection(df, State=state_selector.value, Fuel=fuel_selector.value, Type=type_selector.value, color=color_selector.value, Cylinder=cylinders_selector.value, Transmission=transmission_selector.value, year_min=year_selector.min, year_max=year_selector.max)"
   ]
  },
  {
   "cell_type": "code",
   "execution_count": 100,
   "metadata": {},
   "outputs": [],
   "source": [
    "update_df = cars_in_price_range(update_df, lower_bound.value, upper_bound.value, num_of_sel=15)"
   ]
  },
  {
   "cell_type": "code",
   "execution_count": 101,
   "metadata": {},
   "outputs": [
    {
     "data": {
      "text/html": [
       "<table border=\"1\" class=\"dataframe\">\n",
       "  <thead>\n",
       "    <tr style=\"text-align: right;\">\n",
       "      <th></th>\n",
       "      <th>condition</th>\n",
       "      <th>odometer</th>\n",
       "      <th>title_status</th>\n",
       "      <th>manufacturer</th>\n",
       "      <th>model</th>\n",
       "      <th>price</th>\n",
       "      <th>year</th>\n",
       "      <th>image_url</th>\n",
       "      <th>score</th>\n",
       "    </tr>\n",
       "  </thead>\n",
       "  <tbody>\n",
       "    <tr>\n",
       "      <th>30625</th>\n",
       "      <td>excellent</td>\n",
       "      <td>0.0</td>\n",
       "      <td>clean</td>\n",
       "      <td>chrysler</td>\n",
       "      <td>pacifica</td>\n",
       "      <td>14900</td>\n",
       "      <td>2017.0</td>\n",
       "      <td><img src=\"https://images.craigslist.org/00C0C_gLQCdlCEwCc_0ak07K_600x450.jpg\" width=\"100\" ></td>\n",
       "      <td>96.802324</td>\n",
       "    </tr>\n",
       "    <tr>\n",
       "      <th>30644</th>\n",
       "      <td>excellent</td>\n",
       "      <td>0.0</td>\n",
       "      <td>clean</td>\n",
       "      <td>mazda</td>\n",
       "      <td>cx-5</td>\n",
       "      <td>12900</td>\n",
       "      <td>2016.0</td>\n",
       "      <td><img src=\"https://images.craigslist.org/00505_2oh4VG5MgNp_0ak07K_600x450.jpg\" width=\"100\" ></td>\n",
       "      <td>96.074155</td>\n",
       "    </tr>\n",
       "    <tr>\n",
       "      <th>37731</th>\n",
       "      <td>like new</td>\n",
       "      <td>16672.0</td>\n",
       "      <td>clean</td>\n",
       "      <td>honda</td>\n",
       "      <td>civic si</td>\n",
       "      <td>23995</td>\n",
       "      <td>2019.0</td>\n",
       "      <td><img src=\"https://images.craigslist.org/00W0W_diakheMHKfv_0kE0fu_600x450.jpg\" width=\"100\" ></td>\n",
       "      <td>94.472542</td>\n",
       "    </tr>\n",
       "    <tr>\n",
       "      <th>51075</th>\n",
       "      <td>excellent</td>\n",
       "      <td>26463.0</td>\n",
       "      <td>clean</td>\n",
       "      <td>alfa-romeo</td>\n",
       "      <td>romeo giulia ti awd</td>\n",
       "      <td>27000</td>\n",
       "      <td>2017.0</td>\n",
       "      <td><img src=\"https://images.craigslist.org/00v0v_103nvKlDjox_09G07g_600x450.jpg\" width=\"100\" ></td>\n",
       "      <td>91.245094</td>\n",
       "    </tr>\n",
       "    <tr>\n",
       "      <th>40248</th>\n",
       "      <td>good</td>\n",
       "      <td>27216.0</td>\n",
       "      <td>lien</td>\n",
       "      <td>mazda</td>\n",
       "      <td>cx5 grand touring</td>\n",
       "      <td>23000</td>\n",
       "      <td>2018.0</td>\n",
       "      <td><img src=\"https://images.craigslist.org/00404_6byZYPJ8hC3_0CI0t2_600x450.jpg\" width=\"100\" ></td>\n",
       "      <td>91.185133</td>\n",
       "    </tr>\n",
       "  </tbody>\n",
       "</table>"
      ],
      "text/plain": [
       "<IPython.core.display.HTML object>"
      ]
     },
     "execution_count": 101,
     "metadata": {},
     "output_type": "execute_result"
    }
   ],
   "source": [
    "HTML(update_df.to_html(escape=False,formatters=dict(image_url=path_to_image_html)))"
   ]
  },
  {
   "cell_type": "code",
   "execution_count": null,
   "metadata": {},
   "outputs": [],
   "source": []
  },
  {
   "cell_type": "code",
   "execution_count": null,
   "metadata": {},
   "outputs": [],
   "source": []
  }
 ],
 "metadata": {
  "kernelspec": {
   "display_name": "Python 3",
   "language": "python",
   "name": "python3"
  },
  "language_info": {
   "codemirror_mode": {
    "name": "ipython",
    "version": 3
   },
   "file_extension": ".py",
   "mimetype": "text/x-python",
   "name": "python",
   "nbconvert_exporter": "python",
   "pygments_lexer": "ipython3",
   "version": "3.8.5"
  }
 },
 "nbformat": 4,
 "nbformat_minor": 4
}
