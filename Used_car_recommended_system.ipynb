{
 "cells": [
  {
   "cell_type": "markdown",
   "metadata": {},
   "source": [
    "### Unzip the Dataset and Load Dataset\n",
    "- Preprocessing\n",
    "    - removing nan entries\n",
    "    - select interest features\n",
    "    - transform some categorical data to quantity data for later purpose"
   ]
  },
  {
   "cell_type": "code",
   "execution_count": null,
   "metadata": {},
   "outputs": [],
   "source": [
    "!unzip vehicles.csv.zip"
   ]
  },
  {
   "cell_type": "code",
   "execution_count": 25,
   "metadata": {},
   "outputs": [],
   "source": [
    "import ipywidgets as widgets\n",
    "from IPython.display import display\n",
    "from ipywidgets import TwoByTwoLayout\n",
    "from ipywidgets import Button, Layout, jslink, IntText, IntSlider\n",
    "import matplotlib.pyplot as plt\n",
    "from IPython.core.display import HTML\n",
    "from scipy.stats import chi2_contingency\n",
    "import matplotlib as mpl\n",
    "from util import cars_in_price_range, decide_value_of_cars, path_to_image_html, preference_selection\n",
    "\n",
    "import numpy as np\n",
    "import pandas as pd"
   ]
  },
  {
   "cell_type": "code",
   "execution_count": 3,
   "metadata": {},
   "outputs": [],
   "source": [
    "df = pd.read_csv('vehicles.csv')\n",
    "df.dropna(inplace=True)\n",
    "rec_dataset = df.copy()\n",
    "rec_dataset = rec_dataset[['condition', 'odometer', 'title_status', 'manufacturer', 'model', 'price', 'year', 'image_url']]\n",
    "# drop empty entry\n",
    "rec_dataset.dropna(inplace=True)"
   ]
  },
  {
   "cell_type": "markdown",
   "metadata": {},
   "source": [
    "#### Transform rules\n",
    "Condition: new-100, excellent-95, like new-90, good-85, fair-60, salvage-5 <br>\n",
    "title status: clean-100, lien-90, rebuilt-40, missing-20, parts only-10, salvage-5"
   ]
  },
  {
   "cell_type": "code",
   "execution_count": 4,
   "metadata": {},
   "outputs": [],
   "source": [
    "corr_dt = df.copy()\n",
    "corr_dt = corr_dt[['condition', 'title_status', 'odometer', 'manufacturer', 'model', 'price', 'year']]\n",
    "corr_dt['condition'].replace(['excellent', 'fair', 'good', 'like new', 'new', 'salvage'], [95, 60, 85, 90, 100, 5], inplace=True)\n",
    "corr_dt['year'] = corr_dt['year'].apply(lambda x: 2021-x)\n",
    "corr_dt['title_status'].replace(['clean','lien','rebuilt','missing','parts only','salvage'], [100,90,40,20,10,5],inplace=True)"
   ]
  },
  {
   "cell_type": "markdown",
   "metadata": {},
   "source": [
    "## Odometer VS Price Plot"
   ]
  },
  {
   "cell_type": "code",
   "execution_count": null,
   "metadata": {},
   "outputs": [],
   "source": [
    "import plot\n",
    "plot.odometer()"
   ]
  },
  {
   "cell_type": "markdown",
   "metadata": {},
   "source": [
    "## Distributions of four factors"
   ]
  },
  {
   "cell_type": "code",
   "execution_count": null,
   "outputs": [],
   "source": [
    "import Distributions\n",
    "Distributions.pie_count_all(df, 'year_range')\n",
    "Distributions.pie_count_all(df, 'condition')\n",
    "Distributions.pie_count_all(df, 'odometer_range')\n",
    "Distributions.pie_count_all(df, 'title_status')\n",
    "\n"
   ],
   "metadata": {
    "collapsed": false,
    "pycharm": {
     "name": "#%%\n"
    }
   }
  },
  {
   "cell_type": "markdown",
   "metadata": {},
   "source": [
    "# Correlation Analysis\n",
    "- correlation between categorical data\n",
    "    - crosstab: count how many each tow category have in common\n",
    "    - perofrm hypothesis testing through chi2\n",
    "- correlation between two quantity data\n",
    "    - spearman correlation: measure rank correlation"
   ]
  },
  {
   "cell_type": "code",
   "execution_count": 6,
   "metadata": {},
   "outputs": [
    {
     "data": {
      "text/plain": [
       "(2725.4489363353146,\n",
       " 0.0,\n",
       " 25,\n",
       " array([[2.19670841e+04, 5.87127973e+02, 1.35763687e+04, 4.52127166e+03,\n",
       "         2.23070003e+02, 5.40775764e+01],\n",
       "        [1.18076633e+02, 3.15590789e+00, 7.29751793e+01, 2.43025670e+01,\n",
       "         1.19903737e+00, 2.90675727e-01],\n",
       "        [9.12410344e+00, 2.43865610e-01, 5.63899113e+00, 1.87792563e+00,\n",
       "         9.26528879e-02, 2.24613062e-02],\n",
       "        [1.61013590e+00, 4.30351076e-02, 9.95116082e-01, 3.31398641e-01,\n",
       "         1.63505096e-02, 3.96375991e-03],\n",
       "        [4.93238297e+02, 1.31830880e+01, 3.04837226e+02, 1.01518450e+02,\n",
       "         5.00870612e+00, 1.21423179e+00],\n",
       "        [1.58866742e+02, 4.24613062e+00, 9.81847867e+01, 3.26979992e+01,\n",
       "         1.61325028e+00, 3.91090978e-01]]))"
      ]
     },
     "execution_count": 6,
     "metadata": {},
     "output_type": "execute_result"
    }
   ],
   "source": [
    "# categorical data\n",
    "pd.crosstab(df['title_status'], df['condition'])\n",
    "from scipy.stats import chi2_contingency\n",
    "chi2_contingency(pd.crosstab(df['title_status'], df['condition']))"
   ]
  },
  {
   "cell_type": "code",
   "execution_count": 5,
   "metadata": {},
   "outputs": [
    {
     "data": {
      "text/html": [
       "<div>\n",
       "<style scoped>\n",
       "    .dataframe tbody tr th:only-of-type {\n",
       "        vertical-align: middle;\n",
       "    }\n",
       "\n",
       "    .dataframe tbody tr th {\n",
       "        vertical-align: top;\n",
       "    }\n",
       "\n",
       "    .dataframe thead th {\n",
       "        text-align: right;\n",
       "    }\n",
       "</style>\n",
       "<table border=\"1\" class=\"dataframe\">\n",
       "  <thead>\n",
       "    <tr style=\"text-align: right;\">\n",
       "      <th></th>\n",
       "      <th>odometer</th>\n",
       "      <th>year</th>\n",
       "      <th>condition</th>\n",
       "      <th>title_status</th>\n",
       "      <th>price</th>\n",
       "    </tr>\n",
       "  </thead>\n",
       "  <tbody>\n",
       "    <tr>\n",
       "      <th>odometer</th>\n",
       "      <td>1.000000</td>\n",
       "      <td>0.584491</td>\n",
       "      <td>-0.152517</td>\n",
       "      <td>0.081863</td>\n",
       "      <td>-0.388486</td>\n",
       "    </tr>\n",
       "    <tr>\n",
       "      <th>year</th>\n",
       "      <td>0.584491</td>\n",
       "      <td>1.000000</td>\n",
       "      <td>-0.187168</td>\n",
       "      <td>0.043640</td>\n",
       "      <td>-0.477916</td>\n",
       "    </tr>\n",
       "    <tr>\n",
       "      <th>condition</th>\n",
       "      <td>-0.152517</td>\n",
       "      <td>-0.187168</td>\n",
       "      <td>1.000000</td>\n",
       "      <td>0.003948</td>\n",
       "      <td>0.052658</td>\n",
       "    </tr>\n",
       "    <tr>\n",
       "      <th>title_status</th>\n",
       "      <td>0.081863</td>\n",
       "      <td>0.043640</td>\n",
       "      <td>0.003948</td>\n",
       "      <td>1.000000</td>\n",
       "      <td>0.005363</td>\n",
       "    </tr>\n",
       "    <tr>\n",
       "      <th>price</th>\n",
       "      <td>-0.388486</td>\n",
       "      <td>-0.477916</td>\n",
       "      <td>0.052658</td>\n",
       "      <td>0.005363</td>\n",
       "      <td>1.000000</td>\n",
       "    </tr>\n",
       "  </tbody>\n",
       "</table>\n",
       "</div>"
      ],
      "text/plain": [
       "              odometer      year  condition  title_status     price\n",
       "odometer      1.000000  0.584491  -0.152517      0.081863 -0.388486\n",
       "year          0.584491  1.000000  -0.187168      0.043640 -0.477916\n",
       "condition    -0.152517 -0.187168   1.000000      0.003948  0.052658\n",
       "title_status  0.081863  0.043640   0.003948      1.000000  0.005363\n",
       "price        -0.388486 -0.477916   0.052658      0.005363  1.000000"
      ]
     },
     "execution_count": 5,
     "metadata": {},
     "output_type": "execute_result"
    }
   ],
   "source": [
    "corr_dt = corr_dt[['odometer','year','condition','title_status','price']]\n",
    "corr_dt.corr(method='spearman')"
   ]
  },
  {
   "cell_type": "code",
   "execution_count": 27,
   "metadata": {},
   "outputs": [
    {
     "data": {
      "image/png": "[encoded data removed]",
      "text/plain": [
       "<Figure size 432x288 with 1 Axes>"
      ]
     },
     "metadata": {},
     "output_type": "display_data"
    }
   ],
   "source": [
    "# how heavy each factor correlate with price\n",
    "mpl.style.use('seaborn-pastel')\n",
    "labels = 'odometer','title_status','year','condition'\n",
    "sizes = {}\n",
    "corr_res = corr_dt.corr(method='spearman')\n",
    "for l in labels:\n",
    "    sizes[l] = abs(corr_res['price'][l])/(sum(abs(corr_res['price']))-corr_res['price']['price'])\n",
    "\n",
    "fig1, ax1 = plt.subplots()\n",
    "ax1.pie(sizes.values(), labels=labels, autopct='%1.1f%%',\n",
    "        shadow=True, startangle=90)\n",
    "ax1.axis('equal')  # Equal aspect ratio ensures that pie is drawn as a circle.\n",
    "\n",
    "plt.show()"
   ]
  },
  {
   "cell_type": "markdown",
   "metadata": {},
   "source": [
    "# Used Car Recommendation System"
   ]
  },
  {
   "cell_type": "markdown",
   "metadata": {},
   "source": [
    "### Please Enter the range of price:"
   ]
  },
  {
   "cell_type": "code",
   "execution_count": null,
   "metadata": {},
   "outputs": [],
   "source": [
    "lower_bound = widgets.FloatText(\n",
    "    value=0,\n",
    "    description='From:',\n",
    "    disabled=False\n",
    ")\n",
    "display(lower_bound)"
   ]
  },
  {
   "cell_type": "code",
   "execution_count": null,
   "metadata": {},
   "outputs": [],
   "source": [
    "upper_bound = widgets.FloatText(\n",
    "    value=0,\n",
    "    description='To:',\n",
    "    disabled=False\n",
    ")\n",
    "display(upper_bound)"
   ]
  },
  {
   "cell_type": "markdown",
   "metadata": {},
   "source": [
    "### Filters"
   ]
  },
  {
   "cell_type": "code",
   "execution_count": null,
   "metadata": {},
   "outputs": [],
   "source": [
    "state = [ 'None', 'AL', 'AK', 'AZ', 'AR', 'CA', 'CO', 'CT', 'DC', 'DE', 'FL', 'GA',\n",
    "       'HI', 'ID', 'IL', 'IN', 'IA', 'KS', 'KY', 'LA', 'ME', 'MD', 'MA',\n",
    "       'MI', 'MN', 'MS', 'MO', 'MT', 'NC', 'NE', 'NV', 'NJ', 'NM', 'NY',\n",
    "       'NH', 'ND', 'OH', 'OK', 'OR', 'PA', 'RI', 'SC', 'SD', 'TN', 'TX',\n",
    "       'UT', 'VT', 'VA', 'WA', 'WV', 'WI', 'WY']\n",
    "state_selector = widgets.Dropdown(\n",
    "    options=state,\n",
    "    value='None',\n",
    "    description='STATE:',\n",
    "    disabled=False,\n",
    ")\n",
    "display(state_selector)"
   ]
  },
  {
   "cell_type": "code",
   "execution_count": null,
   "metadata": {},
   "outputs": [],
   "source": [
    "fuel = ['None', 'Gas', 'Diesel', 'Hybrid', 'Electric', 'Other']\n",
    "fuel_selector = widgets.Dropdown(\n",
    "    options=fuel,\n",
    "    value='None',\n",
    "    description='FUEL:',\n",
    "    disabled=False,\n",
    ")\n",
    "display(fuel_selector)"
   ]
  },
  {
   "cell_type": "code",
   "execution_count": null,
   "metadata": {},
   "outputs": [],
   "source": [
    "type_list = ['None','Sedan', 'SUV', 'Pickup', 'Coupe', 'Van', 'Truck',\n",
    "       'Mini-van', 'Wagon', 'Convertible', 'Hatchback', 'Bus', 'Offroad', 'Other']\n",
    "type_selector = widgets.Dropdown(\n",
    "    options=type_list,\n",
    "    value='None',\n",
    "    description='Type:',\n",
    "    disabled=False,\n",
    ")\n",
    "display(type_selector)"
   ]
  },
  {
   "cell_type": "code",
   "execution_count": null,
   "metadata": {},
   "outputs": [],
   "source": [
    "color = ['None','Blue', 'Red', 'Silver', 'Black', 'White', 'Grey', 'Orange',\n",
    "       'Green', 'Yellow', 'Custom', 'Brown', 'Purple']\n",
    "color_selector = widgets.Dropdown(\n",
    "    options=color,\n",
    "    value='None',\n",
    "    description='COLOR:',\n",
    "    disabled=False,\n",
    ")\n",
    "display(color_selector)"
   ]
  },
  {
   "cell_type": "code",
   "execution_count": null,
   "metadata": {},
   "outputs": [],
   "source": [
    "cylinders = ['None', 8, 4, 6, 10, 5, 3, 12]\n",
    "cylinders_selector = widgets.Dropdown(\n",
    "    options=cylinders,\n",
    "    value='None',\n",
    "    description='Cylinders:',\n",
    "    disabled=False,\n",
    ")\n",
    "display(cylinders_selector)"
   ]
  },
  {
   "cell_type": "code",
   "execution_count": null,
   "metadata": {},
   "outputs": [],
   "source": [
    "transmission = ['None','Automatic', 'Manual', 'Other']\n",
    "transmission_selector = widgets.Dropdown(\n",
    "    options=transmission,\n",
    "    value='None',\n",
    "    description='Transmission:',\n",
    "    disabled=False,\n",
    ")\n",
    "display(transmission_selector)"
   ]
  },
  {
   "cell_type": "code",
   "execution_count": null,
   "metadata": {},
   "outputs": [],
   "source": [
    "year_selector = widgets.IntRangeSlider(\n",
    "    value=[2010, 2015],\n",
    "    min=1900,\n",
    "    max=2021,\n",
    "    step=1,\n",
    "    description='Year:',\n",
    "    disabled=False,\n",
    "    continuous_update=False,\n",
    "    orientation='horizontal',\n",
    "    readout=True,\n",
    "    readout_format='d',\n",
    ")\n",
    "display(year_selector)"
   ]
  },
  {
   "cell_type": "code",
   "execution_count": null,
   "metadata": {},
   "outputs": [],
   "source": [
    "update_df = preference_selection(df, State=state_selector.value, Fuel=fuel_selector.value, Type=type_selector.value, color=color_selector.value, Cylinder=cylinders_selector.value, Transmission=transmission_selector.value, year_min=year_selector.value[0], year_max=year_selector.value[1])"
   ]
  },
  {
   "cell_type": "code",
   "execution_count": null,
   "metadata": {},
   "outputs": [],
   "source": [
    "update_df = cars_in_price_range(update_df, lower_bound.value, upper_bound.value, num_of_sel=15)"
   ]
  },
  {
   "cell_type": "code",
   "execution_count": null,
   "metadata": {},
   "outputs": [],
   "source": [
    "HTML(update_df.to_html(escape=False,formatters=dict(image_url=path_to_image_html)))"
   ]
  },
  {
   "cell_type": "code",
   "execution_count": null,
   "metadata": {},
   "outputs": [],
   "source": []
  },
  {
   "cell_type": "markdown",
   "metadata": {},
   "source": [
    "# References\n",
    "- Plot Coloring: https://plotly.com/python/discrete-color/\n",
    "- Correlation: https://realpython.com/numpy-scipy-pandas-correlation-python/\n"
   ]
  },
  {
   "cell_type": "code",
   "execution_count": null,
   "metadata": {},
   "outputs": [],
   "source": []
  }
 ],
 "metadata": {
  "kernelspec": {
   "display_name": "Python 3",
   "language": "python",
   "name": "python3"
  },
  "language_info": {
   "codemirror_mode": {
    "name": "ipython",
    "version": 3
   },
   "file_extension": ".py",
   "mimetype": "text/x-python",
   "name": "python",
   "nbconvert_exporter": "python",
   "pygments_lexer": "ipython3",
   "version": "3.7.6"
  }
 },
 "nbformat": 4,
 "nbformat_minor": 4
}