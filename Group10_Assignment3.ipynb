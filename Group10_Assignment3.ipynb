{
 "cells": [
  {
   "cell_type": "markdown",
   "metadata": {},
   "source": [
    "# Question 1 [Sliding Window]\n",
    "Implement a sliding window for an arbitrary input list. The function should take the window width and the window ",
    "    increment as inputs and should produce a sequence of overlapping lists from the input list. For example, ",
    "    given x=list(range(15)), the following is the output given a window width of 5 and window increment of 2. ",
    " ",
    " ",
    "   [[0, 1, 2, 3, 4], ",
    "    [2, 3, 4, 5, 6], ",
    "    [4, 5, 6, 7, 8], ",
    "    [6, 7, 8, 9, 10], ",
    "    [8, 9, 10, 11, 12], ",
    "    [10, 11, 12, 13, 14]] ",
    " ",
    "In the event that the input parameters do not yield a complete set of even sublists, just truncate the ragged tail. ",
    "For example, ",
    " ",
    "   slide_window(list(range(18)),5,2) ",
    "   [[0, 1, 2, 3, 4], ",
    "    [2, 3, 4, 5, 6], ",
    "    [4, 5, 6, 7, 8], ",
    "    [6, 7, 8, 9, 10], ",
    "    [8, 9, 10, 11, 12], ",
    "    [10, 11, 12, 13, 14], ",
    "    [12, 13, 14, 15, 16]] ",
    " ",
    "Here is the function signature: slide_window(x,width,increment) where increment>0, width>0, and x is a list."
   ]
  },
  {
   "cell_type": "markdown",
   "metadata": {},
   "source": [
    "**Validation Tests** <br>\n",
    "Check for corner cases and constraints in the inputs enlist all cases used for testing"
   ]
  },
  {
   "cell_type": "code",
   "execution_count": null,
   "metadata": {},
   "outputs": [],
   "source": [
    "assert isinstance(x, list)\n",
    "assert width>0\n",
    "assert increment>0"
   ]
  },
  {
   "cell_type": "markdown",
   "metadata": {},
   "source": [
    "**Functional Tests** <br>\n",
    "Check function output matches expected result enlist all cases used for testing"
   ]
  },
  {
   "cell_type": "code",
   "execution_count": null,
   "metadata": {},
   "outputs": [],
   "source": [
    "#Test 1\n",
    "x = list(range(15))\n",
    "width = 5\n",
    "increment = 2\n",
    "result = [[0, 1, 2, 3, 4], [2, 3, 4, 5, 6],[4, 5, 6, 7, 8], [6, 7, 8, 9, 10], [8, 9, 10, 11, 12], [10, 11, 12, 13, 14]]\n",
    "assert result = slide_window(x, width, increment)"
   ]
  },
  {
   "cell_type": "code",
   "execution_count": null,
   "metadata": {},
   "outputs": [],
   "source": [
    "#Test 2\n",
    "x = list(range(18))\n",
    "width = 5\n",
    "increment = 2\n",
    "result = [[0, 1, 2, 3, 4], [2, 3, 4, 5, 6], [4, 5, 6, 7, 8], [6, 7, 8, 9, 10], [8, 9, 10, 11, 12], [10, 11, 12, 13, 14], [12, 13, 14, 15, 16]]\n",
    "assert result = slide_window(x, width, increment)"
   ]
  },
  {
   "cell_type": "markdown",
   "metadata": {},
   "source": [
    "# Question 2 [Fibonacci]\n",
    "The Fibonacci numbers are defined by the following recursion: F[n] = F[n-1]+F[n-2] with initial values F[1]=F[0]=1. ",
    "     Write a generator to compute the first n Fibonacci numbers. For example, for n=10, the output for ",
    "     list(fibonacci(n)) should be [1,1,2,3,5,8,13,21,34,55]. "
   ]
  },
  {
   "cell_type": "markdown",
   "metadata": {},
   "source": [
    "**Validation Tests** <br>\n",
    "Check for corner cases and constraints in the inputs enlist all cases used for testing"
   ]
  },
  {
   "cell_type": "code",
   "execution_count": null,
   "metadata": {},
   "outputs": [],
   "source": [
    "import inspect\n",
    "assert n>=0 and isinstance(n, int)\n",
    "assert inspect.isgeneratorfunction(fibonacci(n)) == True"
   ]
  },
  {
   "cell_type": "markdown",
   "metadata": {},
   "source": [
    "**Functional Tests** <br>\n",
    "Check function output matches expected result enlist all cases used for testing"
   ]
  },
  {
   "cell_type": "code",
   "execution_count": null,
   "metadata": {},
   "outputs": [],
   "source": [
    "#Test 1\n",
    "n = 10\n",
    "result = [1,1,2,3,5,8,13,21,34,55]\n",
    "assert result = list(fibonacci(n))"
   ]
  },
  {
   "cell_type": "code",
   "execution_count": null,
   "metadata": {},
   "outputs": [],
   "source": [
    "#Test 2\n",
    "n = 20\n",
    "result = [1, 1, 2, 3, 5, 8, 13, 21, 34, 55, 89, 144, 233, 377, 610, 987, 1597, 2584, 4181, 6765]\n",
    "assert result = list(fibonacci(n))"
   ]
  },
  {
   "cell_type": "markdown",
   "metadata": {},
   "source": [
    "# Question 3 [Calendar Days]\n",
    "1. Write a function that returns the number of calendar days in a given year and month. Hint: see the calendar module in the standard library. number_of_days(year,month)\n",
    "2. Write a function to find the number of leap-years between (including both endpoints) two given years. number_of_leap_years(year1,year2)\n",
    "3. Write a function to find the string name (e.g., Monday, Tuesday) of the day of the week on a given month,day, and year. get_day_of_week(year,month,day)"
   ]
  },
  {
   "cell_type": "markdown",
   "metadata": {},
   "source": [
    "**Validation Tests** <br>\n",
    "Check for corner cases and constraints in the inputs enlist all cases used for testing"
   ]
  },
  {
   "cell_type": "code",
   "execution_count": null,
   "metadata": {},
   "outputs": [],
   "source": [
    "#number_of_days\n",
    "assert isinstance(year, int) and (year >=0)\n",
    "assert isinstance(month, int) and (1 <= month <= 12)\n",
    "\n",
    "#number_of_leap_years\n",
    "assert isinstance(year1, int) and (year1 >=0)\n",
    "assert isinstance(year2, int) and (year2 >=0)\n",
    "\n",
    "#get_day_of_week\n",
    "assert isinstance(year, int) and (year >=0)\n",
    "assert isinstance(month, int) and (1 <= month <= 12)\n",
    "assert isinstance(day, int) and (1<= day <= number_of_days(year,month))"
   ]
  },
  {
   "cell_type": "markdown",
   "metadata": {},
   "source": [
    "**Functional Tests** <br>\n",
    "Check function output matches expected result enlist all cases used for testing"
   ]
  },
  {
   "cell_type": "code",
   "execution_count": null,
   "metadata": {},
   "outputs": [],
   "source": [
    "#number_of_days\n",
    "assert number_of_days(2021,1) == 31\n",
    "assert number_of_days(2020,2) == 29"
   ]
  },
  {
   "cell_type": "code",
   "execution_count": null,
   "metadata": {},
   "outputs": [],
   "source": [
    "#number_of_leap_years\n",
    "assert number_of_leap_years(2010,2020) == 3\n",
    "assert number_of_leap_years(1900,2020) == 30"
   ]
  },
  {
   "cell_type": "code",
   "execution_count": null,
   "metadata": {},
   "outputs": [],
   "source": [
    "#get_day_of_week\n",
    "assert get_day_of_week(2021,1,26) == \"Tuesday\"\n",
    "assert get_day_of_week(2020,2,29) == \"Saturday\""
   ]
  },
  {
   "cell_type": "markdown",
   "metadata": {},
   "source": [
    "# Question 4 [Coroutines]\n",
    "The code below defines a generator that returns the duration of its lifetime when called.\n",
    "```\n",
    " from time import sleep\n",
    " import random\n",
    " from datetime import datetime\n",
    " import itertools as it\n",
    " \n",
    " def producer():\n",
    "     'produce timestamps'\n",
    "     starttime = datetime.now()\n",
    "     while True:\n",
    "         sleep(random.uniform(0,0.2))\n",
    "         yield datetime.now()-starttime\n",
    "``` \n",
    "For example,\n",
    "```\n",
    ">>> p = producer()\n",
    ">>> next(p)\n",
    "datetime.timedelta(0, 0, 106641)\n",
    "```\n",
    "Note that the output of producer has a seconds attribute. Write a generator that tracks the output of this producer and ultimately returns the number of odd numbered seconds that have been iterated over. The usage pattern is the following,\n",
    "```\n",
    ">>> t = tracker(p,limit=2)\n",
    ">>> next(t)\n",
    "1\n",
    ">>> list( tracker(p,limit=2))\n",
    "[1,2] \n",
    "The limit keyword argument is the number of odd-numbered seconds to track until completion.\n",
    "\n",
    ">>> list( tracker(p,limit=5))\n",
    "[0, 0, 0, 0, 0, 0, 1, 2, 3, 4, 5] \n",
    "```\n",
    "The last line is interesting because is shows that the producer's seconds value output was an even number for the first six iterations. Your tracker generator should also receive input that changes the existing limit,\n",
    "```\n",
    ">>> t = tracker(p,limit=3)\n",
    ">>> next(t)\n",
    "0\n",
    ">>> next(t)\n",
    "0\n",
    ">>> t.send(5)\n",
    "1\n",
    ">>> list(t)\n",
    "[1, 1, 1, 1, 2, 3, 4, 5]\n",
    "```"
   ]
  },
  {
   "cell_type": "markdown",
   "metadata": {},
   "source": [
    "**Validation Tests** <br>\n",
    "Check for corner cases and constraints in the inputs enlist all cases used for testing"
   ]
  },
  {
   "cell_type": "code",
   "execution_count": null,
   "metadata": {},
   "outputs": [],
   "source": [
    "import inspect\n",
    "assert limit >= 0 and isinstance(limit, int)\n",
    "assert inspect.isgeneratorfunction(tracker(p,limit=2)) == True"
   ]
  },
  {
   "cell_type": "markdown",
   "metadata": {},
   "source": [
    "**Functional Tests** <br>\n",
    "Check function output matches expected result enlist all cases used for testing"
   ]
  },
  {
   "cell_type": "code",
   "execution_count": null,
   "metadata": {},
   "outputs": [],
   "source": [
    "#Test 1\n",
    "p = producer()\n",
    "result = [1,2,3,4,5]\n",
    "assert result is in list(tracker(p,limit=5))"
   ]
  },
  {
   "cell_type": "code",
   "execution_count": null,
   "metadata": {},
   "outputs": [],
   "source": [
    "#Test 2\n",
    "p = producer()\n",
    "result = [1,2]\n",
    "assert result is in list(tracker(p,limit=2))"
   ]
  },
  {
   "cell_type": "code",
   "execution_count": null,
   "metadata": {},
   "outputs": [],
   "source": [
    "#Test 3\n",
    "p = producer()\n",
    "t = tracker(p,limit=3)\n",
    "next(t)\n",
    "next(t)\n",
    "new_limit = 5\n",
    "try:\n",
    "    y = t.send(5)\n",
    "    assert y <= new_limit\n",
    "except:\n",
    "    assert 1==0"
   ]
  }
 ],
 "metadata": {
  "kernelspec": {
   "display_name": "Python 3",
   "language": "python",
   "name": "python3"
  },
  "language_info": {
   "codemirror_mode": {
    "name": "ipython",
    "version": 3
   },
   "file_extension": ".py",
   "mimetype": "text/x-python",
   "name": "python",
   "nbconvert_exporter": "python",
   "pygments_lexer": "ipython3",
   "version": "3.7.6"
  }
 },
 "nbformat": 4,
 "nbformat_minor": 4
}
