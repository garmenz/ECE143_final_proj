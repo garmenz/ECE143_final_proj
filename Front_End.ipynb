{
 "cells": [
  {
   "cell_type": "markdown",
   "metadata": {},
   "source": [
    "# Used Car Recommendation System"
   ]
  },
  {
   "cell_type": "code",
   "execution_count": 1,
   "metadata": {},
   "outputs": [],
   "source": [
    "import ipywidgets as widgets\n",
    "from IPython.display import display"
   ]
  },
  {
   "cell_type": "markdown",
   "metadata": {},
   "source": [
    "### Please Enter the range of price:"
   ]
  },
  {
   "cell_type": "code",
   "execution_count": 2,
   "metadata": {},
   "outputs": [
    {
     "data": {
      "application/vnd.jupyter.widget-view+json": {
       "model_id": "7f7d4980ccb94524bb94bf81b8658cb7",
       "version_major": 2,
       "version_minor": 0
      },
      "text/plain": [
       "FloatText(value=0.0, description='From:')"
      ]
     },
     "metadata": {},
     "output_type": "display_data"
    }
   ],
   "source": [
    "lower_bound = widgets.FloatText(\n",
    "    value=0,\n",
    "    description='From:',\n",
    "    disabled=False\n",
    ")\n",
    "display(lower_bound)"
   ]
  },
  {
   "cell_type": "code",
   "execution_count": 3,
   "metadata": {},
   "outputs": [
    {
     "data": {
      "application/vnd.jupyter.widget-view+json": {
       "model_id": "39bf382af8ce4a02a94f52579823ef12",
       "version_major": 2,
       "version_minor": 0
      },
      "text/plain": [
       "FloatText(value=0.0, description='To:')"
      ]
     },
     "metadata": {},
     "output_type": "display_data"
    }
   ],
   "source": [
    "upper_bound = widgets.FloatText(\n",
    "    value=0,\n",
    "    description='To:',\n",
    "    disabled=False\n",
    ")\n",
    "display(upper_bound)"
   ]
  },
  {
   "cell_type": "markdown",
   "metadata": {},
   "source": [
    "### Optional parameters (if not entered, systems will look at all available cars):"
   ]
  },
  {
   "cell_type": "code",
   "execution_count": 4,
   "metadata": {},
   "outputs": [
    {
     "data": {
      "application/vnd.jupyter.widget-view+json": {
       "model_id": "0305d91a2e514b419503e34ca743450d",
       "version_major": 2,
       "version_minor": 0
      },
      "text/plain": [
       "Dropdown(description='STATE:', options=('None', 'AL', 'AK', 'AZ', 'AR', 'CA', 'CO', 'CT', 'DC', 'DE', 'FL', 'G…"
      ]
     },
     "metadata": {},
     "output_type": "display_data"
    }
   ],
   "source": [
    "state = [ 'None', 'AL', 'AK', 'AZ', 'AR', 'CA', 'CO', 'CT', 'DC', 'DE', 'FL', 'GA',\n",
    "       'HI', 'ID', 'IL', 'IN', 'IA', 'KS', 'KY', 'LA', 'ME', 'MD', 'MA',\n",
    "       'MI', 'MN', 'MS', 'MO', 'MT', 'NC', 'NE', 'NV', 'NJ', 'NM', 'NY',\n",
    "       'NH', 'ND', 'OH', 'OK', 'OR', 'PA', 'RI', 'SC', 'SD', 'TN', 'TX',\n",
    "       'UT', 'VT', 'VA', 'WA', 'WV', 'WI', 'WY']\n",
    "state_selector = widgets.Dropdown(\n",
    "    options=state,\n",
    "    value='None',\n",
    "    description='STATE:',\n",
    "    disabled=False,\n",
    ")\n",
    "display(state_selector)"
   ]
  },
  {
   "cell_type": "code",
   "execution_count": 5,
   "metadata": {},
   "outputs": [
    {
     "data": {
      "application/vnd.jupyter.widget-view+json": {
       "model_id": "ecfb3f4f7bd9474c90afa809fda6b057",
       "version_major": 2,
       "version_minor": 0
      },
      "text/plain": [
       "Dropdown(description='FUEL:', options=('None', 'Gas', 'Diesel', 'Hybrid', 'Electric', 'Other'), value='None')"
      ]
     },
     "metadata": {},
     "output_type": "display_data"
    }
   ],
   "source": [
    "fuel = ['None', 'Gas', 'Diesel', 'Hybrid', 'Electric', 'Other']\n",
    "fuel_selector = widgets.Dropdown(\n",
    "    options=fuel,\n",
    "    value='None',\n",
    "    description='FUEL:',\n",
    "    disabled=False,\n",
    ")\n",
    "display(fuel_selector)"
   ]
  },
  {
   "cell_type": "code",
   "execution_count": 6,
   "metadata": {},
   "outputs": [
    {
     "data": {
      "application/vnd.jupyter.widget-view+json": {
       "model_id": "efe86be9db1d49e7817e342030c698af",
       "version_major": 2,
       "version_minor": 0
      },
      "text/plain": [
       "Dropdown(description='Type:', options=('None', 'Sedan', 'SUV', 'Pickup', 'Coupe', 'Van', 'Truck', 'Mini-van', …"
      ]
     },
     "metadata": {},
     "output_type": "display_data"
    }
   ],
   "source": [
    "type_list = ['None','Sedan', 'SUV', 'Pickup', 'Coupe', 'Van', 'Truck',\n",
    "       'Mini-van', 'Wagon', 'Convertible', 'Hatchback', 'Bus', 'Offroad', 'Other']\n",
    "type_selector = widgets.Dropdown(\n",
    "    options=type_list,\n",
    "    value='None',\n",
    "    description='Type:',\n",
    "    disabled=False,\n",
    ")\n",
    "display(type_selector)"
   ]
  },
  {
   "cell_type": "code",
   "execution_count": 7,
   "metadata": {},
   "outputs": [
    {
     "data": {
      "application/vnd.jupyter.widget-view+json": {
       "model_id": "56a09d870e9f43448457e921e691dac6",
       "version_major": 2,
       "version_minor": 0
      },
      "text/plain": [
       "Dropdown(description='COLOR:', options=('None', 'Blue', 'Red', 'Silver', 'Black', 'White', 'Grey', 'Orange', '…"
      ]
     },
     "metadata": {},
     "output_type": "display_data"
    }
   ],
   "source": [
    "color = ['None','Blue', 'Red', 'Silver', 'Black', 'White', 'Grey', 'Orange',\n",
    "       'Green', 'Yellow', 'Custom', 'Brown', 'Purple']\n",
    "color_selector = widgets.Dropdown(\n",
    "    options=color,\n",
    "    value='None',\n",
    "    description='COLOR:',\n",
    "    disabled=False,\n",
    ")\n",
    "display(color_selector)"
   ]
  },
  {
   "cell_type": "code",
   "execution_count": 9,
   "metadata": {},
   "outputs": [
    {
     "data": {
      "application/vnd.jupyter.widget-view+json": {
       "model_id": "12068628125e4d22aff6c174f0c5a37e",
       "version_major": 2,
       "version_minor": 0
      },
      "text/plain": [
       "Dropdown(description='Cylinders:', options=('None', 8, 4, 6, 10, 5, 3, 12), value='None')"
      ]
     },
     "metadata": {},
     "output_type": "display_data"
    }
   ],
   "source": [
    "cylinders = ['None', 8, 4, 6, 10, 5, 3, 12]\n",
    "cylinders_selector = widgets.Dropdown(\n",
    "    options=cylinders,\n",
    "    value='None',\n",
    "    description='Cylinders:',\n",
    "    disabled=False,\n",
    ")\n",
    "display(cylinders_selector)"
   ]
  },
  {
   "cell_type": "code",
   "execution_count": 10,
   "metadata": {},
   "outputs": [
    {
     "data": {
      "application/vnd.jupyter.widget-view+json": {
       "model_id": "5dcfec424b184948846621a18ad2beb9",
       "version_major": 2,
       "version_minor": 0
      },
      "text/plain": [
       "Dropdown(description='Transmission:', options=('None', 'Automatic', 'Manual', 'Other'), value='None')"
      ]
     },
     "metadata": {},
     "output_type": "display_data"
    }
   ],
   "source": [
    "transmission = ['None','Automatic', 'Manual', 'Other']\n",
    "transmission_selector = widgets.Dropdown(\n",
    "    options=transmission,\n",
    "    value='None',\n",
    "    description='Transmission:',\n",
    "    disabled=False,\n",
    ")\n",
    "display(transmission_selector)"
   ]
  },
  {
   "cell_type": "code",
   "execution_count": 11,
   "metadata": {},
   "outputs": [
    {
     "data": {
      "application/vnd.jupyter.widget-view+json": {
       "model_id": "470f6825aad8414197cf198f4a192e88",
       "version_major": 2,
       "version_minor": 0
      },
      "text/plain": [
       "IntRangeSlider(value=(2010, 2015), continuous_update=False, description='Year:', max=2021, min=1900)"
      ]
     },
     "metadata": {},
     "output_type": "display_data"
    }
   ],
   "source": [
    "year_selector = widgets.IntRangeSlider(\n",
    "    value=[2010, 2015],\n",
    "    min=1900,\n",
    "    max=2021,\n",
    "    step=1,\n",
    "    description='Year:',\n",
    "    disabled=False,\n",
    "    continuous_update=False,\n",
    "    orientation='horizontal',\n",
    "    readout=True,\n",
    "    readout_format='d',\n",
    ")\n",
    "display(year_selector)"
   ]
  },
  {
   "cell_type": "code",
   "execution_count": 13,
   "metadata": {},
   "outputs": [
    {
     "data": {
      "application/vnd.jupyter.widget-view+json": {
       "model_id": "3e84dfd723bb4797a6fa4d10b5a18c0d",
       "version_major": 2,
       "version_minor": 0
      },
      "text/plain": [
       "HTML(value='<div id=\"img\" style=\"float:left\"><img style=\"vertical-align:middle\" src=\"https://images.craigslist…"
      ]
     },
     "metadata": {},
     "output_type": "display_data"
    }
   ],
   "source": [
    "img =  widgets.HTML('<div id=\"img\" style=\"float:left\">'\n",
    "                    '<img style=\"vertical-align:middle\" src=\"https://images.craigslist.org/00N0N_ipkbHVZYf4w_0gw0co_600x450.jpg\" alt=\"\">'                       \n",
    "                    '</div>')\n",
    "img"
   ]
  },
  {
   "cell_type": "code",
   "execution_count": null,
   "metadata": {},
   "outputs": [],
   "source": []
  }
 ],
 "metadata": {
  "kernelspec": {
   "display_name": "Python 3",
   "language": "python",
   "name": "python3"
  },
  "language_info": {
   "codemirror_mode": {
    "name": "ipython",
    "version": 3
   },
   "file_extension": ".py",
   "mimetype": "text/x-python",
   "name": "python",
   "nbconvert_exporter": "python",
   "pygments_lexer": "ipython3",
   "version": "3.8.5"
  }
 },
 "nbformat": 4,
 "nbformat_minor": 4
}
