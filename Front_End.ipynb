{
 "cells": [
  {
   "cell_type": "markdown",
   "metadata": {},
   "source": [
    "# Used Car Recommendation System"
   ]
  },
  {
   "cell_type": "code",
   "execution_count": 6,
   "metadata": {},
   "outputs": [],
   "source": [
    "import ipywidgets as widgets\n",
    "from IPython.display import display"
   ]
  },
  {
   "cell_type": "markdown",
   "metadata": {},
   "source": [
    "### Please Enter the range of price:"
   ]
  },
  {
   "cell_type": "code",
   "execution_count": 8,
   "metadata": {},
   "outputs": [
    {
     "data": {
      "application/vnd.jupyter.widget-view+json": {
       "model_id": "612d20d694a441b0b9617cd1a276e9a8",
       "version_major": 2,
       "version_minor": 0
      },
      "text/plain": [
       "FloatText(value=0.0, description='From:')"
      ]
     },
     "metadata": {},
     "output_type": "display_data"
    }
   ],
   "source": [
    "lower_bound = widgets.FloatText(\n",
    "    value=0,\n",
    "    description='From:',\n",
    "    disabled=False\n",
    ")\n",
    "display(lower_bound)"
   ]
  },
  {
   "cell_type": "code",
   "execution_count": 9,
   "metadata": {},
   "outputs": [
    {
     "data": {
      "application/vnd.jupyter.widget-view+json": {
       "model_id": "065e32a0eb66425a97ac134fb5c7a93d",
       "version_major": 2,
       "version_minor": 0
      },
      "text/plain": [
       "FloatText(value=0.0, description='To:')"
      ]
     },
     "metadata": {},
     "output_type": "display_data"
    }
   ],
   "source": [
    "upper_bound = widgets.FloatText(\n",
    "    value=0,\n",
    "    description='To:',\n",
    "    disabled=False\n",
    ")\n",
    "display(upper_bound)"
   ]
  },
  {
   "cell_type": "markdown",
   "metadata": {},
   "source": [
    "### Optional parameters (if not entered, systems will look at all available cars):"
   ]
  },
  {
   "cell_type": "code",
   "execution_count": 10,
   "metadata": {},
   "outputs": [
    {
     "data": {
      "application/vnd.jupyter.widget-view+json": {
       "model_id": "001422c76bdd4663b8342d48aaebdc95",
       "version_major": 2,
       "version_minor": 0
      },
      "text/plain": [
       "Dropdown(description='STATE:', options=('None', 'MA', 'CA'), value='None')"
      ]
     },
     "metadata": {},
     "output_type": "display_data"
    }
   ],
   "source": [
    "state = ['None', 'MA', 'CA']\n",
    "state_selector = widgets.Dropdown(\n",
    "    options=state,\n",
    "    value='None',\n",
    "    description='STATE:',\n",
    "    disabled=False,\n",
    ")\n",
    "display(state_selector)"
   ]
  },
  {
   "cell_type": "code",
   "execution_count": 12,
   "metadata": {},
   "outputs": [
    {
     "data": {
      "application/vnd.jupyter.widget-view+json": {
       "model_id": "1196dd7c46394aa88216d4ca1571451c",
       "version_major": 2,
       "version_minor": 0
      },
      "text/plain": [
       "Dropdown(description='FUEL:', options=('None',), value='None')"
      ]
     },
     "metadata": {},
     "output_type": "display_data"
    }
   ],
   "source": [
    "fuel = ['None']\n",
    "fuel_selector = widgets.Dropdown(\n",
    "    options=fuel,\n",
    "    value='None',\n",
    "    description='FUEL:',\n",
    "    disabled=False,\n",
    ")\n",
    "display(fuel_selector)"
   ]
  },
  {
   "cell_type": "code",
   "execution_count": 15,
   "metadata": {},
   "outputs": [
    {
     "data": {
      "application/vnd.jupyter.widget-view+json": {
       "model_id": "b828a97dea5b401d911a5fdc9de17020",
       "version_major": 2,
       "version_minor": 0
      },
      "text/plain": [
       "Dropdown(description='Type:', options=('None',), value='None')"
      ]
     },
     "metadata": {},
     "output_type": "display_data"
    }
   ],
   "source": [
    "type_list = ['None']\n",
    "type_selector = widgets.Dropdown(\n",
    "    options=type_list,\n",
    "    value='None',\n",
    "    description='Type:',\n",
    "    disabled=False,\n",
    ")\n",
    "display(type_selector)"
   ]
  },
  {
   "cell_type": "code",
   "execution_count": 13,
   "metadata": {},
   "outputs": [
    {
     "data": {
      "application/vnd.jupyter.widget-view+json": {
       "model_id": "7ce3ca922c7a4c7298fc1ca57ae30243",
       "version_major": 2,
       "version_minor": 0
      },
      "text/plain": [
       "Dropdown(description='COLOR:', options=('None',), value='None')"
      ]
     },
     "metadata": {},
     "output_type": "display_data"
    }
   ],
   "source": [
    "color = ['None', \"Red\", \"Blue\", \"Black\"]\n",
    "color_selector = widgets.Dropdown(\n",
    "    options=color,\n",
    "    value='None',\n",
    "    description='COLOR:',\n",
    "    disabled=False,\n",
    ")\n",
    "display(color_selector)"
   ]
  },
  {
   "cell_type": "code",
   "execution_count": 17,
   "metadata": {},
   "outputs": [
    {
     "data": {
      "application/vnd.jupyter.widget-view+json": {
       "model_id": "61d2ea463aab4029bc64c9761221c1f8",
       "version_major": 2,
       "version_minor": 0
      },
      "text/plain": [
       "IntRangeSlider(value=(40, 90), continuous_update=False, description='Cylinders:', min=30)"
      ]
     },
     "metadata": {},
     "output_type": "display_data"
    }
   ],
   "source": [
    "cylinders_selector = widgets.IntRangeSlider(\n",
    "    value=[40, 90],\n",
    "    min=30,\n",
    "    max=100,\n",
    "    step=1,\n",
    "    description='Cylinders:',\n",
    "    disabled=False,\n",
    "    continuous_update=False,\n",
    "    orientation='horizontal',\n",
    "    readout=True,\n",
    "    readout_format='d',\n",
    ")\n",
    "display(cylinders_selector)"
   ]
  },
  {
   "cell_type": "code",
   "execution_count": 18,
   "metadata": {},
   "outputs": [
    {
     "data": {
      "application/vnd.jupyter.widget-view+json": {
       "model_id": "73cf0964f2ff4c4185b844c956835492",
       "version_major": 2,
       "version_minor": 0
      },
      "text/plain": [
       "Dropdown(description='Transmission:', options=('None',), value='None')"
      ]
     },
     "metadata": {},
     "output_type": "display_data"
    }
   ],
   "source": [
    "transmission = ['None']\n",
    "transmission_selector = widgets.Dropdown(\n",
    "    options=transmission,\n",
    "    value='None',\n",
    "    description='Transmission:',\n",
    "    disabled=False,\n",
    ")\n",
    "display(transmission_selector)"
   ]
  },
  {
   "cell_type": "code",
   "execution_count": 19,
   "metadata": {},
   "outputs": [
    {
     "data": {
      "application/vnd.jupyter.widget-view+json": {
       "model_id": "329cc7606ab54707818599a66afd0b32",
       "version_major": 2,
       "version_minor": 0
      },
      "text/plain": [
       "IntRangeSlider(value=(2010, 2015), continuous_update=False, description='Year:', max=2021, min=2000)"
      ]
     },
     "metadata": {},
     "output_type": "display_data"
    }
   ],
   "source": [
    "year_selector = widgets.IntRangeSlider(\n",
    "    value=[2010, 2015],\n",
    "    min=2000,\n",
    "    max=2021,\n",
    "    step=1,\n",
    "    description='Year:',\n",
    "    disabled=False,\n",
    "    continuous_update=False,\n",
    "    orientation='horizontal',\n",
    "    readout=True,\n",
    "    readout_format='d',\n",
    ")\n",
    "display(year_selector)"
   ]
  },
  {
   "cell_type": "code",
   "execution_count": null,
   "metadata": {},
   "outputs": [],
   "source": []
  }
 ],
 "metadata": {
  "kernelspec": {
   "display_name": "Python 3",
   "language": "python",
   "name": "python3"
  },
  "language_info": {
   "codemirror_mode": {
    "name": "ipython",
    "version": 3
   },
   "file_extension": ".py",
   "mimetype": "text/x-python",
   "name": "python",
   "nbconvert_exporter": "python",
   "pygments_lexer": "ipython3",
   "version": "3.8.5"
  }
 },
 "nbformat": 4,
 "nbformat_minor": 4
}
